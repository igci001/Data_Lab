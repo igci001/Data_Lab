{
 "cells": [
  {
   "metadata": {},
   "cell_type": "markdown",
   "source": [
    "# Überschrift Finden!!!\n",
    "Autor: Emirhan Igci\n",
    "Datum: 23.04.2025\n",
    "\n",
    "# Agenda <a class=\"anchor\" id=\"Agenda\"></a>\n",
    "  1. [Einleitung und Zielsetzung](#EinleitungundZielsetzung)\n",
    "  1.1 [Einleitung und Zielsetzung](#EinleitungundZielsetzung)\n",
    "\n",
    "\n",
    "# Einleitung und Zielsetzung <a class=\"anchor\" id=\"EinleitungundZielsetzung\"></a>\n",
    "\n",
    "In der nachfolgenden Analyse werden **Immobilienpreise**, sowie **Mietpreise** auf Grundlage verschiedenster Einflussfaktoren analysiert.\n",
    "\n",
    "Dabei werden folgende Hauptthesen untersucht:\n",
    "\n",
    "Themen der Untersuchung:\n",
    "1. Auswirkung der Barrierefreiheit von Immobilien und Wohnungen auf den Verkaufs- oder Mietpreis\n",
    "2. Auswirkung der Region auf den Verkaufs- oder Mietpreis\n",
    "\n",
    "Ziele:\n",
    "1. Erstellen eines Modells, einer Funktion zur Kaufentscheidung der Immobilie basierend auf Kredit, eigenkapital und weiteren Faktoren\n"
   ],
   "id": "bd909eec2a121a13"
  },
  {
   "metadata": {
    "ExecuteTime": {
     "end_time": "2025-04-30T10:10:35.958584Z",
     "start_time": "2025-04-30T10:10:30.154242Z"
    }
   },
   "cell_type": "code",
   "source": [
    "import sys\n",
    "# sys.executable adressiert die Python-Installation von Jupyter\n",
    "! {sys.executable} -m pip install dmba seaborn numpy pandas"
   ],
   "id": "initial_id",
   "outputs": [
    {
     "name": "stdout",
     "output_type": "stream",
     "text": [
      "Requirement already satisfied: dmba in c:\\users\\emirh\\appdata\\local\\programs\\python\\python313\\lib\\site-packages (0.2.4)\n",
      "Requirement already satisfied: seaborn in c:\\users\\emirh\\appdata\\local\\programs\\python\\python313\\lib\\site-packages (0.13.2)\n",
      "Requirement already satisfied: numpy in c:\\users\\emirh\\appdata\\local\\programs\\python\\python313\\lib\\site-packages (2.2.4)\n",
      "Requirement already satisfied: pandas in c:\\users\\emirh\\appdata\\local\\programs\\python\\python313\\lib\\site-packages (2.2.3)\n",
      "Requirement already satisfied: graphviz in c:\\users\\emirh\\appdata\\local\\programs\\python\\python313\\lib\\site-packages (from dmba) (0.20.3)\n",
      "Requirement already satisfied: matplotlib in c:\\users\\emirh\\appdata\\local\\programs\\python\\python313\\lib\\site-packages (from dmba) (3.10.1)\n",
      "Requirement already satisfied: scikit-learn in c:\\users\\emirh\\appdata\\local\\programs\\python\\python313\\lib\\site-packages (from dmba) (1.6.1)\n",
      "Requirement already satisfied: scipy in c:\\users\\emirh\\appdata\\local\\programs\\python\\python313\\lib\\site-packages (from dmba) (1.15.2)\n",
      "Requirement already satisfied: python-dateutil>=2.8.2 in c:\\users\\emirh\\appdata\\local\\programs\\python\\python313\\lib\\site-packages (from pandas) (2.9.0.post0)\n",
      "Requirement already satisfied: pytz>=2020.1 in c:\\users\\emirh\\appdata\\local\\programs\\python\\python313\\lib\\site-packages (from pandas) (2025.2)\n",
      "Requirement already satisfied: tzdata>=2022.7 in c:\\users\\emirh\\appdata\\local\\programs\\python\\python313\\lib\\site-packages (from pandas) (2025.2)\n",
      "Requirement already satisfied: contourpy>=1.0.1 in c:\\users\\emirh\\appdata\\local\\programs\\python\\python313\\lib\\site-packages (from matplotlib->dmba) (1.3.1)\n",
      "Requirement already satisfied: cycler>=0.10 in c:\\users\\emirh\\appdata\\local\\programs\\python\\python313\\lib\\site-packages (from matplotlib->dmba) (0.12.1)\n",
      "Requirement already satisfied: fonttools>=4.22.0 in c:\\users\\emirh\\appdata\\local\\programs\\python\\python313\\lib\\site-packages (from matplotlib->dmba) (4.57.0)\n",
      "Requirement already satisfied: kiwisolver>=1.3.1 in c:\\users\\emirh\\appdata\\local\\programs\\python\\python313\\lib\\site-packages (from matplotlib->dmba) (1.4.8)\n",
      "Requirement already satisfied: packaging>=20.0 in c:\\users\\emirh\\appdata\\local\\programs\\python\\python313\\lib\\site-packages (from matplotlib->dmba) (24.2)\n",
      "Requirement already satisfied: pillow>=8 in c:\\users\\emirh\\appdata\\local\\programs\\python\\python313\\lib\\site-packages (from matplotlib->dmba) (11.2.1)\n",
      "Requirement already satisfied: pyparsing>=2.3.1 in c:\\users\\emirh\\appdata\\local\\programs\\python\\python313\\lib\\site-packages (from matplotlib->dmba) (3.2.3)\n",
      "Requirement already satisfied: six>=1.5 in c:\\users\\emirh\\appdata\\local\\programs\\python\\python313\\lib\\site-packages (from python-dateutil>=2.8.2->pandas) (1.17.0)\n",
      "Requirement already satisfied: joblib>=1.2.0 in c:\\users\\emirh\\appdata\\local\\programs\\python\\python313\\lib\\site-packages (from scikit-learn->dmba) (1.4.2)\n",
      "Requirement already satisfied: threadpoolctl>=3.1.0 in c:\\users\\emirh\\appdata\\local\\programs\\python\\python313\\lib\\site-packages (from scikit-learn->dmba) (3.6.0)\n"
     ]
    },
    {
     "name": "stderr",
     "output_type": "stream",
     "text": [
      "\n",
      "[notice] A new release of pip is available: 25.0.1 -> 25.1\n",
      "[notice] To update, run: C:\\Users\\emirh\\AppData\\Local\\Programs\\Python\\Python313\\python.exe -m pip install --upgrade pip\n"
     ]
    }
   ],
   "execution_count": 2
  },
  {
   "metadata": {},
   "cell_type": "markdown",
   "source": [
    "# Aufbereitung der Daten\n",
    "\n",
    "## Quelle\n",
    "Die Quelle h\n",
    "\n",
    "## Erste Betrachtung der Datensätze\n",
    "\n",
    "### Aufbau"
   ],
   "id": "ecc97510666fafdf"
  },
  {
   "metadata": {
    "ExecuteTime": {
     "end_time": "2025-04-30T10:41:25.347262Z",
     "start_time": "2025-04-30T10:41:00.495560Z"
    }
   },
   "cell_type": "code",
   "source": [
    "import pandas as pd\n",
    "\n",
    "#   Einlesen der Daten\n",
    "pre = \"CampusFile_\"\n",
    "#   Cross Section\n",
    "hk_cs_df = pd.read_stata(f'./cross_section/{pre}HK_2023.dta')\n",
    "wk_cs_df = pd.read_stata(f'./cross_section/{pre}WK_2023.dta')\n",
    "wm_cs_df = pd.read_stata(f'./cross_section/{pre}WM_2023.dta')\n",
    "#   panel\n",
    "hk_p_df = pd.read_stata(f'./panel/{pre}HK_cities.dta')\n",
    "wk_p_df = pd.read_stata(f'./panel/{pre}WK_cities.dta')\n",
    "wm_p_df = pd.read_stata(f'./panel/{pre}WM_cities.dta')\n"
   ],
   "id": "8ceb46586d6069cd",
   "outputs": [
    {
     "name": "stdout",
     "output_type": "stream",
     "text": [
      "        obid            plz  kaufpreis mieteinnahmenpromonat  \\\n",
      "0   69714594  Other missing   249000.0         Other missing   \n",
      "1  138817383          35109   365000.0         Other missing   \n",
      "2   70171238  Other missing   259000.0         Other missing   \n",
      "3  138990464  Other missing  1100000.0         Other missing   \n",
      "4   71325078  Other missing   115000.0         Other missing   \n",
      "\n",
      "                      heizkosten baujahr letzte_modernisierung wohnflaeche  \\\n",
      "0  Variable for other types only  1975.0         Other missing      206.00   \n",
      "1  Variable for other types only     NaN         Other missing      146.00   \n",
      "2  Variable for other types only  1933.0         Other missing      162.50   \n",
      "3  Variable for other types only  2023.0         Other missing      165.00   \n",
      "4  Variable for other types only     NaN         Other missing      116.94   \n",
      "\n",
      "  grundstuecksflaeche    nutzflaeche  ...    duplicateid     hits_gen  \\\n",
      "0              1320.0  Other missing  ...             -1     3.630923   \n",
      "1               234.0  Other missing  ...  Other missing  8550.000000   \n",
      "2               862.0  Other missing  ...             -1    10.478022   \n",
      "3               936.0  Other missing  ...  Other missing   418.076935   \n",
      "4               575.0  Other missing  ...             -1     3.194444   \n",
      "\n",
      "  click_schnellkontakte_gen click_weitersagen_gen click_url_gen  \\\n",
      "0                  0.012469              0.002494      0.022444   \n",
      "1                 12.000000              0.000000      0.000000   \n",
      "2                  0.038462              0.008242      0.021978   \n",
      "3                  2.692308              0.000000      2.692308   \n",
      "4                  0.000000              0.000000      0.046296   \n",
      "\n",
      "  liste_show_gen liste_match_gen       adat       edat    price_sqm  \n",
      "0      36.630924     2360.077393 2023-07-01 2023-12-01  1208.737915  \n",
      "1  260046.000000   556014.000000 2023-01-01 2023-01-01  2500.000000  \n",
      "2     223.744507     2438.115479 2023-07-01 2023-12-01  1593.846191  \n",
      "3   16408.076172    66585.765625 2023-01-01 2023-01-01  6666.666504  \n",
      "4      37.342594     2696.166748 2023-07-01 2023-12-01   983.410278  \n",
      "\n",
      "[5 rows x 70 columns]\n",
      "Datentypen im DataFrame hk_cs_df:\n",
      "obid                           category\n",
      "plz                            category\n",
      "kaufpreis                      category\n",
      "mieteinnahmenpromonat          category\n",
      "heizkosten                     category\n",
      "                              ...      \n",
      "liste_show_gen                 category\n",
      "liste_match_gen                category\n",
      "adat                     datetime64[ns]\n",
      "edat                     datetime64[ns]\n",
      "price_sqm                       float32\n",
      "Length: 70, dtype: object\n"
     ]
    }
   ],
   "execution_count": 7
  },
  {
   "metadata": {
    "ExecuteTime": {
     "end_time": "2025-04-30T10:45:54.171715Z",
     "start_time": "2025-04-30T10:45:54.139177Z"
    }
   },
   "cell_type": "code",
   "source": [
    "print(hk_cs_df.head())\n",
    "# Anzeigen der Datentypen für den DataFrame hk_cs_df\n",
    "print(\"Datentypen im DataFrame hk_cs_df:\")\n",
    "hk_cs_df['duplicateid'].unique()"
   ],
   "id": "2cab6db353c051b4",
   "outputs": [
    {
     "name": "stdout",
     "output_type": "stream",
     "text": [
      "        obid            plz  kaufpreis mieteinnahmenpromonat  \\\n",
      "0   69714594  Other missing   249000.0         Other missing   \n",
      "1  138817383          35109   365000.0         Other missing   \n",
      "2   70171238  Other missing   259000.0         Other missing   \n",
      "3  138990464  Other missing  1100000.0         Other missing   \n",
      "4   71325078  Other missing   115000.0         Other missing   \n",
      "\n",
      "                      heizkosten baujahr letzte_modernisierung wohnflaeche  \\\n",
      "0  Variable for other types only  1975.0         Other missing      206.00   \n",
      "1  Variable for other types only     NaN         Other missing      146.00   \n",
      "2  Variable for other types only  1933.0         Other missing      162.50   \n",
      "3  Variable for other types only  2023.0         Other missing      165.00   \n",
      "4  Variable for other types only     NaN         Other missing      116.94   \n",
      "\n",
      "  grundstuecksflaeche    nutzflaeche  ...    duplicateid     hits_gen  \\\n",
      "0              1320.0  Other missing  ...             -1     3.630923   \n",
      "1               234.0  Other missing  ...  Other missing  8550.000000   \n",
      "2               862.0  Other missing  ...             -1    10.478022   \n",
      "3               936.0  Other missing  ...  Other missing   418.076935   \n",
      "4               575.0  Other missing  ...             -1     3.194444   \n",
      "\n",
      "  click_schnellkontakte_gen click_weitersagen_gen click_url_gen  \\\n",
      "0                  0.012469              0.002494      0.022444   \n",
      "1                 12.000000              0.000000      0.000000   \n",
      "2                  0.038462              0.008242      0.021978   \n",
      "3                  2.692308              0.000000      2.692308   \n",
      "4                  0.000000              0.000000      0.046296   \n",
      "\n",
      "  liste_show_gen liste_match_gen       adat       edat    price_sqm  \n",
      "0      36.630924     2360.077393 2023-07-01 2023-12-01  1208.737915  \n",
      "1  260046.000000   556014.000000 2023-01-01 2023-01-01  2500.000000  \n",
      "2     223.744507     2438.115479 2023-07-01 2023-12-01  1593.846191  \n",
      "3   16408.076172    66585.765625 2023-01-01 2023-01-01  6666.666504  \n",
      "4      37.342594     2696.166748 2023-07-01 2023-12-01   983.410278  \n",
      "\n",
      "[5 rows x 70 columns]\n",
      "Datentypen im DataFrame hk_cs_df:\n"
     ]
    },
    {
     "data": {
      "text/plain": [
       "[-1, 'Other missing', 141644491, 142781547, 145702734, ..., 145123336, 146107247, 145123246, 142432586, 145123456]\n",
       "Length: 73661\n",
       "Categories (73661, object): ['Other missing' < -1 < 49826950 < 59465467 ... 148066669 < 148066861 < 148068742 < 148069713]"
      ]
     },
     "execution_count": 10,
     "metadata": {},
     "output_type": "execute_result"
    }
   ],
   "execution_count": 10
  },
  {
   "metadata": {},
   "cell_type": "markdown",
   "source": "",
   "id": "a4d6f07f92296f6a"
  }
 ],
 "metadata": {
  "kernelspec": {
   "display_name": "Python 3",
   "language": "python",
   "name": "python3"
  },
  "language_info": {
   "codemirror_mode": {
    "name": "ipython",
    "version": 2
   },
   "file_extension": ".py",
   "mimetype": "text/x-python",
   "name": "python",
   "nbconvert_exporter": "python",
   "pygments_lexer": "ipython2",
   "version": "2.7.6"
  }
 },
 "nbformat": 4,
 "nbformat_minor": 5
}
